{
 "cells": [
  {
   "cell_type": "code",
   "execution_count": 1,
   "id": "266de97f-fcee-4ae8-80ad-0e818dc0e410",
   "metadata": {
    "execution": {
     "iopub.execute_input": "2024-09-11T15:16:48.357080Z",
     "iopub.status.busy": "2024-09-11T15:16:48.356040Z",
     "iopub.status.idle": "2024-09-11T15:16:50.795503Z",
     "shell.execute_reply": "2024-09-11T15:16:50.794481Z",
     "shell.execute_reply.started": "2024-09-11T15:16:48.357080Z"
    }
   },
   "outputs": [
    {
     "name": "stderr",
     "output_type": "stream",
     "text": [
      "E:\\Python\\Python312\\Lib\\site-packages\\dask\\dataframe\\__init__.py:42: FutureWarning: \n",
      "Dask dataframe query planning is disabled because dask-expr is not installed.\n",
      "\n",
      "You can install it with `pip install dask[dataframe]` or `conda install dask`.\n",
      "This will raise in a future version.\n",
      "\n",
      "  warnings.warn(msg, FutureWarning)\n"
     ]
    }
   ],
   "source": [
    "import dask.dataframe as dd"
   ]
  },
  {
   "cell_type": "code",
   "execution_count": 2,
   "id": "a26c8a42-d5a6-4cf5-a68c-2ed8acebdeb3",
   "metadata": {
    "execution": {
     "iopub.execute_input": "2024-09-11T15:16:50.826502Z",
     "iopub.status.busy": "2024-09-11T15:16:50.825524Z",
     "iopub.status.idle": "2024-09-11T15:16:50.835141Z",
     "shell.execute_reply": "2024-09-11T15:16:50.833124Z",
     "shell.execute_reply.started": "2024-09-11T15:16:50.826502Z"
    }
   },
   "outputs": [],
   "source": [
    "import pandas as pd"
   ]
  },
  {
   "cell_type": "code",
   "execution_count": 3,
   "id": "28758b16-2bac-464f-9402-141bac982375",
   "metadata": {
    "execution": {
     "iopub.execute_input": "2024-09-11T15:16:50.838143Z",
     "iopub.status.busy": "2024-09-11T15:16:50.837145Z",
     "iopub.status.idle": "2024-09-11T15:16:50.856344Z",
     "shell.execute_reply": "2024-09-11T15:16:50.854320Z",
     "shell.execute_reply.started": "2024-09-11T15:16:50.838143Z"
    }
   },
   "outputs": [],
   "source": [
    "from dask.diagnostics import ProgressBar"
   ]
  },
  {
   "cell_type": "code",
   "execution_count": 4,
   "id": "f0940b46-6d76-48f3-a529-d97ad2c7880e",
   "metadata": {
    "execution": {
     "iopub.execute_input": "2024-09-11T15:16:50.859350Z",
     "iopub.status.busy": "2024-09-11T15:16:50.857347Z",
     "iopub.status.idle": "2024-09-11T15:16:50.866807Z",
     "shell.execute_reply": "2024-09-11T15:16:50.864790Z",
     "shell.execute_reply.started": "2024-09-11T15:16:50.859350Z"
    }
   },
   "outputs": [],
   "source": [
    "import dask.array as da"
   ]
  },
  {
   "cell_type": "code",
   "execution_count": 5,
   "id": "bae9c26d-0d12-4f04-a674-5b6936527739",
   "metadata": {
    "execution": {
     "iopub.execute_input": "2024-09-11T15:16:50.870816Z",
     "iopub.status.busy": "2024-09-11T15:16:50.869817Z",
     "iopub.status.idle": "2024-09-11T15:16:52.149978Z",
     "shell.execute_reply": "2024-09-11T15:16:52.147960Z",
     "shell.execute_reply.started": "2024-09-11T15:16:50.870816Z"
    }
   },
   "outputs": [],
   "source": [
    "df_pandas = pd.DataFrame({\"palyer\": da.array([\"player\" + str(i) for i in range(1,101)]),\n",
    "                          \"wage\": da.random.randint(250, 450, 100), \n",
    "                          \"age\": da.random.randint(23, 38, 100)})"
   ]
  },
  {
   "cell_type": "code",
   "execution_count": 6,
   "id": "49b39a9f-88fc-42ae-8bb0-0c267dc39748",
   "metadata": {
    "execution": {
     "iopub.execute_input": "2024-09-11T15:16:52.154975Z",
     "iopub.status.busy": "2024-09-11T15:16:52.153975Z",
     "iopub.status.idle": "2024-09-11T15:16:52.185461Z",
     "shell.execute_reply": "2024-09-11T15:16:52.184442Z",
     "shell.execute_reply.started": "2024-09-11T15:16:52.154975Z"
    }
   },
   "outputs": [
    {
     "data": {
      "text/html": [
       "<div>\n",
       "<style scoped>\n",
       "    .dataframe tbody tr th:only-of-type {\n",
       "        vertical-align: middle;\n",
       "    }\n",
       "\n",
       "    .dataframe tbody tr th {\n",
       "        vertical-align: top;\n",
       "    }\n",
       "\n",
       "    .dataframe thead th {\n",
       "        text-align: right;\n",
       "    }\n",
       "</style>\n",
       "<table border=\"1\" class=\"dataframe\">\n",
       "  <thead>\n",
       "    <tr style=\"text-align: right;\">\n",
       "      <th></th>\n",
       "      <th>palyer</th>\n",
       "      <th>wage</th>\n",
       "      <th>age</th>\n",
       "    </tr>\n",
       "  </thead>\n",
       "  <tbody>\n",
       "    <tr>\n",
       "      <th>0</th>\n",
       "      <td>player1</td>\n",
       "      <td>435</td>\n",
       "      <td>35</td>\n",
       "    </tr>\n",
       "    <tr>\n",
       "      <th>1</th>\n",
       "      <td>player2</td>\n",
       "      <td>308</td>\n",
       "      <td>25</td>\n",
       "    </tr>\n",
       "    <tr>\n",
       "      <th>2</th>\n",
       "      <td>player3</td>\n",
       "      <td>346</td>\n",
       "      <td>35</td>\n",
       "    </tr>\n",
       "    <tr>\n",
       "      <th>3</th>\n",
       "      <td>player4</td>\n",
       "      <td>388</td>\n",
       "      <td>26</td>\n",
       "    </tr>\n",
       "    <tr>\n",
       "      <th>4</th>\n",
       "      <td>player5</td>\n",
       "      <td>429</td>\n",
       "      <td>36</td>\n",
       "    </tr>\n",
       "    <tr>\n",
       "      <th>...</th>\n",
       "      <td>...</td>\n",
       "      <td>...</td>\n",
       "      <td>...</td>\n",
       "    </tr>\n",
       "    <tr>\n",
       "      <th>95</th>\n",
       "      <td>player96</td>\n",
       "      <td>435</td>\n",
       "      <td>26</td>\n",
       "    </tr>\n",
       "    <tr>\n",
       "      <th>96</th>\n",
       "      <td>player97</td>\n",
       "      <td>252</td>\n",
       "      <td>35</td>\n",
       "    </tr>\n",
       "    <tr>\n",
       "      <th>97</th>\n",
       "      <td>player98</td>\n",
       "      <td>438</td>\n",
       "      <td>33</td>\n",
       "    </tr>\n",
       "    <tr>\n",
       "      <th>98</th>\n",
       "      <td>player99</td>\n",
       "      <td>423</td>\n",
       "      <td>25</td>\n",
       "    </tr>\n",
       "    <tr>\n",
       "      <th>99</th>\n",
       "      <td>player100</td>\n",
       "      <td>258</td>\n",
       "      <td>32</td>\n",
       "    </tr>\n",
       "  </tbody>\n",
       "</table>\n",
       "<p>100 rows × 3 columns</p>\n",
       "</div>"
      ],
      "text/plain": [
       "       palyer  wage  age\n",
       "0     player1   435   35\n",
       "1     player2   308   25\n",
       "2     player3   346   35\n",
       "3     player4   388   26\n",
       "4     player5   429   36\n",
       "..        ...   ...  ...\n",
       "95   player96   435   26\n",
       "96   player97   252   35\n",
       "97   player98   438   33\n",
       "98   player99   423   25\n",
       "99  player100   258   32\n",
       "\n",
       "[100 rows x 3 columns]"
      ]
     },
     "execution_count": 6,
     "metadata": {},
     "output_type": "execute_result"
    }
   ],
   "source": [
    "df_pandas"
   ]
  },
  {
   "cell_type": "code",
   "execution_count": 7,
   "id": "d4f42b33-a4cd-4b38-a133-af7a1975a4fc",
   "metadata": {
    "execution": {
     "iopub.execute_input": "2024-09-11T15:16:52.187462Z",
     "iopub.status.busy": "2024-09-11T15:16:52.187462Z",
     "iopub.status.idle": "2024-09-11T15:16:52.255386Z",
     "shell.execute_reply": "2024-09-11T15:16:52.254372Z",
     "shell.execute_reply.started": "2024-09-11T15:16:52.187462Z"
    }
   },
   "outputs": [],
   "source": [
    "df_dask = dd.from_pandas(df_pandas, npartitions=10)"
   ]
  },
  {
   "cell_type": "code",
   "execution_count": 8,
   "id": "f15f2cfc-a6bc-436a-b2c0-ec307580228e",
   "metadata": {
    "execution": {
     "iopub.execute_input": "2024-09-11T15:16:52.258382Z",
     "iopub.status.busy": "2024-09-11T15:16:52.257382Z",
     "iopub.status.idle": "2024-09-11T15:16:52.345317Z",
     "shell.execute_reply": "2024-09-11T15:16:52.344296Z",
     "shell.execute_reply.started": "2024-09-11T15:16:52.258382Z"
    }
   },
   "outputs": [
    {
     "data": {
      "text/html": [
       "<div><strong>Dask DataFrame Structure:</strong></div>\n",
       "<div>\n",
       "<style scoped>\n",
       "    .dataframe tbody tr th:only-of-type {\n",
       "        vertical-align: middle;\n",
       "    }\n",
       "\n",
       "    .dataframe tbody tr th {\n",
       "        vertical-align: top;\n",
       "    }\n",
       "\n",
       "    .dataframe thead th {\n",
       "        text-align: right;\n",
       "    }\n",
       "</style>\n",
       "<table border=\"1\" class=\"dataframe\">\n",
       "  <thead>\n",
       "    <tr style=\"text-align: right;\">\n",
       "      <th></th>\n",
       "      <th>palyer</th>\n",
       "      <th>wage</th>\n",
       "      <th>age</th>\n",
       "    </tr>\n",
       "    <tr>\n",
       "      <th>npartitions=10</th>\n",
       "      <th></th>\n",
       "      <th></th>\n",
       "      <th></th>\n",
       "    </tr>\n",
       "  </thead>\n",
       "  <tbody>\n",
       "    <tr>\n",
       "      <th>0</th>\n",
       "      <td>string</td>\n",
       "      <td>int32</td>\n",
       "      <td>int32</td>\n",
       "    </tr>\n",
       "    <tr>\n",
       "      <th>10</th>\n",
       "      <td>...</td>\n",
       "      <td>...</td>\n",
       "      <td>...</td>\n",
       "    </tr>\n",
       "    <tr>\n",
       "      <th>...</th>\n",
       "      <td>...</td>\n",
       "      <td>...</td>\n",
       "      <td>...</td>\n",
       "    </tr>\n",
       "    <tr>\n",
       "      <th>90</th>\n",
       "      <td>...</td>\n",
       "      <td>...</td>\n",
       "      <td>...</td>\n",
       "    </tr>\n",
       "    <tr>\n",
       "      <th>99</th>\n",
       "      <td>...</td>\n",
       "      <td>...</td>\n",
       "      <td>...</td>\n",
       "    </tr>\n",
       "  </tbody>\n",
       "</table>\n",
       "</div>\n",
       "<div>Dask Name: to_pyarrow_string, 2 graph layers</div>"
      ],
      "text/plain": [
       "Dask DataFrame Structure:\n",
       "                palyer   wage    age\n",
       "npartitions=10                      \n",
       "0               string  int32  int32\n",
       "10                 ...    ...    ...\n",
       "...                ...    ...    ...\n",
       "90                 ...    ...    ...\n",
       "99                 ...    ...    ...\n",
       "Dask Name: to_pyarrow_string, 2 graph layers"
      ]
     },
     "execution_count": 8,
     "metadata": {},
     "output_type": "execute_result"
    }
   ],
   "source": [
    "df_dask"
   ]
  },
  {
   "cell_type": "code",
   "execution_count": 9,
   "id": "cf2068f0-b254-4336-b0d7-50dc0ed5ef89",
   "metadata": {
    "execution": {
     "iopub.execute_input": "2024-09-11T15:16:52.353313Z",
     "iopub.status.busy": "2024-09-11T15:16:52.352313Z",
     "iopub.status.idle": "2024-09-11T15:16:52.501505Z",
     "shell.execute_reply": "2024-09-11T15:16:52.497457Z",
     "shell.execute_reply.started": "2024-09-11T15:16:52.353313Z"
    }
   },
   "outputs": [
    {
     "name": "stdout",
     "output_type": "stream",
     "text": [
      "[########################################] | 100% Completed | 109.80 ms\n"
     ]
    },
    {
     "data": {
      "text/plain": [
       "age\n",
       "25    12\n",
       "27    10\n",
       "36    10\n",
       "33     9\n",
       "34     9\n",
       "28     8\n",
       "32     8\n",
       "26     7\n",
       "35     7\n",
       "24     5\n",
       "29     4\n",
       "30     4\n",
       "31     4\n",
       "23     2\n",
       "37     1\n",
       "Name: count, dtype: int64"
      ]
     },
     "execution_count": 9,
     "metadata": {},
     "output_type": "execute_result"
    }
   ],
   "source": [
    "with ProgressBar():\n",
    "    df_dask_age_count = df_dask[\"age\"].value_counts().compute()\n",
    "df_dask_age_count"
   ]
  },
  {
   "cell_type": "code",
   "execution_count": 10,
   "id": "92b6e972-786b-47ed-bf28-f272ba794fe6",
   "metadata": {
    "execution": {
     "iopub.execute_input": "2024-09-11T15:16:52.506481Z",
     "iopub.status.busy": "2024-09-11T15:16:52.505501Z",
     "iopub.status.idle": "2024-09-11T15:16:53.017865Z",
     "shell.execute_reply": "2024-09-11T15:16:53.016833Z",
     "shell.execute_reply.started": "2024-09-11T15:16:52.506481Z"
    }
   },
   "outputs": [
    {
     "name": "stdout",
     "output_type": "stream",
     "text": [
      "[########################################] | 100% Completed | 109.78 ms\n",
      "[########################################] | 100% Completed | 106.49 ms\n",
      "[########################################] | 100% Completed | 107.70 ms\n",
      "[########################################] | 100% Completed | 113.71 ms\n"
     ]
    }
   ],
   "source": [
    "with ProgressBar():\n",
    "    wage_mean = df_dask[\"wage\"].mean().compute()\n",
    "    wage_std = df_dask[\"wage\"].std().compute()\n",
    "    wage_maximum = df_dask[\"wage\"].max().compute()\n",
    "    wage_minimum = df_dask[\"wage\"].min().compute()"
   ]
  },
  {
   "cell_type": "code",
   "execution_count": 11,
   "id": "4dc2d9d2-fe26-49a8-8dc9-061130a294e4",
   "metadata": {
    "execution": {
     "iopub.execute_input": "2024-09-11T15:16:53.021870Z",
     "iopub.status.busy": "2024-09-11T15:16:53.020854Z",
     "iopub.status.idle": "2024-09-11T15:16:53.034137Z",
     "shell.execute_reply": "2024-09-11T15:16:53.032118Z",
     "shell.execute_reply.started": "2024-09-11T15:16:53.021870Z"
    }
   },
   "outputs": [
    {
     "data": {
      "text/plain": [
       "351.06"
      ]
     },
     "execution_count": 11,
     "metadata": {},
     "output_type": "execute_result"
    }
   ],
   "source": [
    "wage_mean"
   ]
  },
  {
   "cell_type": "code",
   "execution_count": 12,
   "id": "93b16647-e8b4-4ed9-8e72-fa72fcd83b18",
   "metadata": {
    "execution": {
     "iopub.execute_input": "2024-09-11T15:16:53.038142Z",
     "iopub.status.busy": "2024-09-11T15:16:53.037141Z",
     "iopub.status.idle": "2024-09-11T15:16:53.050389Z",
     "shell.execute_reply": "2024-09-11T15:16:53.048369Z",
     "shell.execute_reply.started": "2024-09-11T15:16:53.038142Z"
    }
   },
   "outputs": [
    {
     "data": {
      "text/plain": [
       "448"
      ]
     },
     "execution_count": 12,
     "metadata": {},
     "output_type": "execute_result"
    }
   ],
   "source": [
    "wage_maximum"
   ]
  },
  {
   "cell_type": "code",
   "execution_count": 13,
   "id": "808b943a-b4bb-4816-b513-72e3fe35623d",
   "metadata": {
    "execution": {
     "iopub.execute_input": "2024-09-11T15:16:53.052386Z",
     "iopub.status.busy": "2024-09-11T15:16:53.051385Z",
     "iopub.status.idle": "2024-09-11T15:16:53.063218Z",
     "shell.execute_reply": "2024-09-11T15:16:53.062195Z",
     "shell.execute_reply.started": "2024-09-11T15:16:53.052386Z"
    }
   },
   "outputs": [
    {
     "data": {
      "text/plain": [
       "250"
      ]
     },
     "execution_count": 13,
     "metadata": {},
     "output_type": "execute_result"
    }
   ],
   "source": [
    "wage_minimum"
   ]
  },
  {
   "cell_type": "code",
   "execution_count": 14,
   "id": "d3517544-f960-4fee-ac3f-a79aa899150e",
   "metadata": {
    "execution": {
     "iopub.execute_input": "2024-09-11T15:16:53.069214Z",
     "iopub.status.busy": "2024-09-11T15:16:53.068220Z",
     "iopub.status.idle": "2024-09-11T15:16:53.080021Z",
     "shell.execute_reply": "2024-09-11T15:16:53.077997Z",
     "shell.execute_reply.started": "2024-09-11T15:16:53.069214Z"
    }
   },
   "outputs": [
    {
     "data": {
      "text/plain": [
       "61.04573877202423"
      ]
     },
     "execution_count": 14,
     "metadata": {},
     "output_type": "execute_result"
    }
   ],
   "source": [
    "wage_std"
   ]
  },
  {
   "cell_type": "code",
   "execution_count": 15,
   "id": "2c4a63d1-ab8e-47c7-9d2c-7cc2b5739d3f",
   "metadata": {
    "execution": {
     "iopub.execute_input": "2024-09-11T15:16:53.197017Z",
     "iopub.status.busy": "2024-09-11T15:16:53.196017Z",
     "iopub.status.idle": "2024-09-11T15:16:53.479010Z",
     "shell.execute_reply": "2024-09-11T15:16:53.474974Z",
     "shell.execute_reply.started": "2024-09-11T15:16:53.197017Z"
    }
   },
   "outputs": [
    {
     "name": "stdout",
     "output_type": "stream",
     "text": [
      "[########################################] | 100% Completed | 231.48 ms\n"
     ]
    },
    {
     "data": {
      "text/html": [
       "<div>\n",
       "<style scoped>\n",
       "    .dataframe tbody tr th:only-of-type {\n",
       "        vertical-align: middle;\n",
       "    }\n",
       "\n",
       "    .dataframe tbody tr th {\n",
       "        vertical-align: top;\n",
       "    }\n",
       "\n",
       "    .dataframe thead th {\n",
       "        text-align: right;\n",
       "    }\n",
       "</style>\n",
       "<table border=\"1\" class=\"dataframe\">\n",
       "  <thead>\n",
       "    <tr style=\"text-align: right;\">\n",
       "      <th></th>\n",
       "      <th>wage</th>\n",
       "      <th>age</th>\n",
       "    </tr>\n",
       "  </thead>\n",
       "  <tbody>\n",
       "    <tr>\n",
       "      <th>wage</th>\n",
       "      <td>1.000000</td>\n",
       "      <td>-0.100072</td>\n",
       "    </tr>\n",
       "    <tr>\n",
       "      <th>age</th>\n",
       "      <td>-0.100072</td>\n",
       "      <td>1.000000</td>\n",
       "    </tr>\n",
       "  </tbody>\n",
       "</table>\n",
       "</div>"
      ],
      "text/plain": [
       "          wage       age\n",
       "wage  1.000000 -0.100072\n",
       "age  -0.100072  1.000000"
      ]
     },
     "execution_count": 15,
     "metadata": {},
     "output_type": "execute_result"
    }
   ],
   "source": [
    "with ProgressBar():\n",
    "    correlation_matrix = df_dask[[\"wage\", \"age\"]].corr().compute()\n",
    "correlation_matrix"
   ]
  },
  {
   "cell_type": "code",
   "execution_count": 16,
   "id": "300b02fb-d8dc-4ab2-893c-8c1cf812c023",
   "metadata": {
    "execution": {
     "iopub.execute_input": "2024-09-11T15:16:53.774856Z",
     "iopub.status.busy": "2024-09-11T15:16:53.773856Z",
     "iopub.status.idle": "2024-09-11T15:16:55.927575Z",
     "shell.execute_reply": "2024-09-11T15:16:55.926533Z",
     "shell.execute_reply.started": "2024-09-11T15:16:53.774856Z"
    }
   },
   "outputs": [],
   "source": [
    "import seaborn as sns"
   ]
  },
  {
   "cell_type": "code",
   "execution_count": 17,
   "id": "59ce2508-0466-4bdd-96c0-fd3997436c23",
   "metadata": {
    "execution": {
     "iopub.execute_input": "2024-09-11T15:16:55.930559Z",
     "iopub.status.busy": "2024-09-11T15:16:55.929559Z",
     "iopub.status.idle": "2024-09-11T15:16:57.615670Z",
     "shell.execute_reply": "2024-09-11T15:16:57.614655Z",
     "shell.execute_reply.started": "2024-09-11T15:16:55.930559Z"
    }
   },
   "outputs": [
    {
     "name": "stdout",
     "output_type": "stream",
     "text": [
      "[########################################] | 100% Completed | 107.65 ms\n"
     ]
    },
    {
     "data": {
      "image/png": "[encoded data removed]",
      "text/plain": [
       "<Figure size 500x500 with 6 Axes>"
      ]
     },
     "metadata": {},
     "output_type": "display_data"
    }
   ],
   "source": [
    "with ProgressBar():\n",
    "    sns.pairplot(df_dask[[\"age\", \"wage\"]].compute())"
   ]
  },
  {
   "cell_type": "code",
   "execution_count": null,
   "id": "9333b576-da72-4b18-91f2-a36082663624",
   "metadata": {},
   "outputs": [],
   "source": []
  }
 ],
 "metadata": {
  "kernelspec": {
   "display_name": "Python 3 (ipykernel)",
   "language": "python",
   "name": "python3"
  },
  "language_info": {
   "codemirror_mode": {
    "name": "ipython",
    "version": 3
   },
   "file_extension": ".py",
   "mimetype": "text/x-python",
   "name": "python",
   "nbconvert_exporter": "python",
   "pygments_lexer": "ipython3",
   "version": "3.12.5"
  }
 },
 "nbformat": 4,
 "nbformat_minor": 5
}
