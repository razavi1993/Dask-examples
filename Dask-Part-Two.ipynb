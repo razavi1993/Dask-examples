{
 "cells": [
  {
   "cell_type": "code",
   "execution_count": 1,
   "id": "9229a4d2-0188-4cde-8dc4-92b5f7b1718b",
   "metadata": {
    "execution": {
     "iopub.execute_input": "2024-09-11T13:09:57.381586Z",
     "iopub.status.busy": "2024-09-11T13:09:57.380587Z",
     "iopub.status.idle": "2024-09-11T13:09:57.647365Z",
     "shell.execute_reply": "2024-09-11T13:09:57.646350Z",
     "shell.execute_reply.started": "2024-09-11T13:09:57.381586Z"
    }
   },
   "outputs": [],
   "source": [
    "import dask"
   ]
  },
  {
   "cell_type": "code",
   "execution_count": 3,
   "id": "5f707b7c-6bfd-4369-bc44-8b5fb4e8b5f8",
   "metadata": {
    "execution": {
     "iopub.execute_input": "2024-09-11T13:10:09.775569Z",
     "iopub.status.busy": "2024-09-11T13:10:09.774580Z",
     "iopub.status.idle": "2024-09-11T13:10:09.783294Z",
     "shell.execute_reply": "2024-09-11T13:10:09.781251Z",
     "shell.execute_reply.started": "2024-09-11T13:10:09.775569Z"
    }
   },
   "outputs": [],
   "source": [
    "import dask.dataframe as dd"
   ]
  },
  {
   "cell_type": "code",
   "execution_count": 4,
   "id": "2ef1ef07-fded-496b-935d-bde885959a70",
   "metadata": {
    "execution": {
     "iopub.execute_input": "2024-09-11T13:10:11.480270Z",
     "iopub.status.busy": "2024-09-11T13:10:11.479276Z",
     "iopub.status.idle": "2024-09-11T13:10:11.495730Z",
     "shell.execute_reply": "2024-09-11T13:10:11.494713Z",
     "shell.execute_reply.started": "2024-09-11T13:10:11.480270Z"
    }
   },
   "outputs": [],
   "source": [
    "from dask.diagnostics import ProgressBar"
   ]
  },
  {
   "cell_type": "code",
   "execution_count": 5,
   "id": "4c3adb36-f012-40d8-b16f-ba2654327146",
   "metadata": {
    "execution": {
     "iopub.execute_input": "2024-09-11T13:10:12.055279Z",
     "iopub.status.busy": "2024-09-11T13:10:12.054280Z",
     "iopub.status.idle": "2024-09-11T13:10:14.166516Z",
     "shell.execute_reply": "2024-09-11T13:10:14.165501Z",
     "shell.execute_reply.started": "2024-09-11T13:10:12.055279Z"
    }
   },
   "outputs": [],
   "source": [
    "import seaborn as sns"
   ]
  },
  {
   "cell_type": "code",
   "execution_count": 6,
   "id": "47aaf6a1-abe0-41dd-b64e-26c70f2ad727",
   "metadata": {
    "execution": {
     "iopub.execute_input": "2024-09-11T13:10:14.171519Z",
     "iopub.status.busy": "2024-09-11T13:10:14.169518Z",
     "iopub.status.idle": "2024-09-11T13:10:14.180103Z",
     "shell.execute_reply": "2024-09-11T13:10:14.178080Z",
     "shell.execute_reply.started": "2024-09-11T13:10:14.171519Z"
    }
   },
   "outputs": [],
   "source": [
    "import matplotlib.pyplot as plt"
   ]
  },
  {
   "cell_type": "code",
   "execution_count": 7,
   "id": "0a87616a-2a12-4758-884e-41e9efe09175",
   "metadata": {
    "execution": {
     "iopub.execute_input": "2024-09-11T13:10:14.183109Z",
     "iopub.status.busy": "2024-09-11T13:10:14.182103Z",
     "iopub.status.idle": "2024-09-11T13:10:14.263673Z",
     "shell.execute_reply": "2024-09-11T13:10:14.262652Z",
     "shell.execute_reply.started": "2024-09-11T13:10:14.183109Z"
    }
   },
   "outputs": [],
   "source": [
    "df = dd.read_parquet(\"data.parquet\")"
   ]
  },
  {
   "cell_type": "code",
   "execution_count": 8,
   "id": "2e1b6837-32f9-40d6-bcdc-52c356c6cb89",
   "metadata": {
    "execution": {
     "iopub.execute_input": "2024-09-11T13:10:14.270673Z",
     "iopub.status.busy": "2024-09-11T13:10:14.269673Z",
     "iopub.status.idle": "2024-09-11T13:10:14.306225Z",
     "shell.execute_reply": "2024-09-11T13:10:14.305205Z",
     "shell.execute_reply.started": "2024-09-11T13:10:14.270673Z"
    }
   },
   "outputs": [
    {
     "data": {
      "text/html": [
       "<div><strong>Dask DataFrame Structure:</strong></div>\n",
       "<div>\n",
       "<style scoped>\n",
       "    .dataframe tbody tr th:only-of-type {\n",
       "        vertical-align: middle;\n",
       "    }\n",
       "\n",
       "    .dataframe tbody tr th {\n",
       "        vertical-align: top;\n",
       "    }\n",
       "\n",
       "    .dataframe thead th {\n",
       "        text-align: right;\n",
       "    }\n",
       "</style>\n",
       "<table border=\"1\" class=\"dataframe\">\n",
       "  <thead>\n",
       "    <tr style=\"text-align: right;\">\n",
       "      <th></th>\n",
       "      <th>A</th>\n",
       "      <th>B</th>\n",
       "    </tr>\n",
       "    <tr>\n",
       "      <th>npartitions=1</th>\n",
       "      <th></th>\n",
       "      <th></th>\n",
       "    </tr>\n",
       "  </thead>\n",
       "  <tbody>\n",
       "    <tr>\n",
       "      <th></th>\n",
       "      <td>int64</td>\n",
       "      <td>int64</td>\n",
       "    </tr>\n",
       "    <tr>\n",
       "      <th></th>\n",
       "      <td>...</td>\n",
       "      <td>...</td>\n",
       "    </tr>\n",
       "  </tbody>\n",
       "</table>\n",
       "</div>\n",
       "<div>Dask Name: read-parquet, 1 graph layer</div>"
      ],
      "text/plain": [
       "Dask DataFrame Structure:\n",
       "                   A      B\n",
       "npartitions=1              \n",
       "               int64  int64\n",
       "                 ...    ...\n",
       "Dask Name: read-parquet, 1 graph layer"
      ]
     },
     "execution_count": 8,
     "metadata": {},
     "output_type": "execute_result"
    }
   ],
   "source": [
    "df"
   ]
  },
  {
   "cell_type": "code",
   "execution_count": 9,
   "id": "6bf82c8a-3804-40ea-92b5-8fd143c18292",
   "metadata": {
    "execution": {
     "iopub.execute_input": "2024-09-11T13:10:14.308222Z",
     "iopub.status.busy": "2024-09-11T13:10:14.308222Z",
     "iopub.status.idle": "2024-09-11T13:10:15.656245Z",
     "shell.execute_reply": "2024-09-11T13:10:15.655224Z",
     "shell.execute_reply.started": "2024-09-11T13:10:14.308222Z"
    }
   },
   "outputs": [
    {
     "name": "stdout",
     "output_type": "stream",
     "text": [
      "[########################################] | 100% Completed | 106.63 ms\n"
     ]
    },
    {
     "data": {
      "image/png": "[encoded data removed]",
      "text/plain": [
       "<Figure size 640x480 with 1 Axes>"
      ]
     },
     "metadata": {},
     "output_type": "display_data"
    }
   ],
   "source": [
    "with ProgressBar():\n",
    "    sns.scatterplot(x=\"A\", y=\"B\", data=df.compute())"
   ]
  },
  {
   "cell_type": "code",
   "execution_count": 10,
   "id": "9b100a4a-6a80-4a9e-b0cf-45d1a305abba",
   "metadata": {
    "execution": {
     "iopub.execute_input": "2024-09-11T13:10:15.659241Z",
     "iopub.status.busy": "2024-09-11T13:10:15.658244Z",
     "iopub.status.idle": "2024-09-11T13:10:15.666365Z",
     "shell.execute_reply": "2024-09-11T13:10:15.665348Z",
     "shell.execute_reply.started": "2024-09-11T13:10:15.659241Z"
    }
   },
   "outputs": [],
   "source": [
    "import dask.array as da"
   ]
  },
  {
   "cell_type": "code",
   "execution_count": 11,
   "id": "9d16eb3c-bd76-4ea2-9bfa-b52b8a0b526a",
   "metadata": {
    "execution": {
     "iopub.execute_input": "2024-09-11T13:10:15.671376Z",
     "iopub.status.busy": "2024-09-11T13:10:15.670374Z",
     "iopub.status.idle": "2024-09-11T13:10:15.679200Z",
     "shell.execute_reply": "2024-09-11T13:10:15.677179Z",
     "shell.execute_reply.started": "2024-09-11T13:10:15.671376Z"
    }
   },
   "outputs": [],
   "source": [
    "import pandas as pd"
   ]
  },
  {
   "cell_type": "code",
   "execution_count": 12,
   "id": "96021433-0789-4969-858f-2521622a7248",
   "metadata": {
    "execution": {
     "iopub.execute_input": "2024-09-11T13:10:15.682200Z",
     "iopub.status.busy": "2024-09-11T13:10:15.681200Z",
     "iopub.status.idle": "2024-09-11T13:10:15.704463Z",
     "shell.execute_reply": "2024-09-11T13:10:15.703442Z",
     "shell.execute_reply.started": "2024-09-11T13:10:15.682200Z"
    }
   },
   "outputs": [],
   "source": [
    "df2 = pd.DataFrame({\"X\": da.random.normal(5,1,100), \"Y\": da.random.normal(7,3,100)})"
   ]
  },
  {
   "cell_type": "code",
   "execution_count": 13,
   "id": "a91c4476-e6c2-43fe-bb3f-236b1e8ee17a",
   "metadata": {
    "execution": {
     "iopub.execute_input": "2024-09-11T13:10:15.707459Z",
     "iopub.status.busy": "2024-09-11T13:10:15.706459Z",
     "iopub.status.idle": "2024-09-11T13:10:15.717194Z",
     "shell.execute_reply": "2024-09-11T13:10:15.715170Z",
     "shell.execute_reply.started": "2024-09-11T13:10:15.707459Z"
    }
   },
   "outputs": [],
   "source": [
    "df2_dask = dd.from_pandas(df2, npartitions=1)"
   ]
  },
  {
   "cell_type": "code",
   "execution_count": 14,
   "id": "3722daeb-988d-4bc0-b0f5-984f8d85395a",
   "metadata": {
    "execution": {
     "iopub.execute_input": "2024-09-11T13:10:15.720199Z",
     "iopub.status.busy": "2024-09-11T13:10:15.719195Z",
     "iopub.status.idle": "2024-09-11T13:10:15.740188Z",
     "shell.execute_reply": "2024-09-11T13:10:15.739171Z",
     "shell.execute_reply.started": "2024-09-11T13:10:15.720199Z"
    }
   },
   "outputs": [
    {
     "data": {
      "text/html": [
       "<div><strong>Dask DataFrame Structure:</strong></div>\n",
       "<div>\n",
       "<style scoped>\n",
       "    .dataframe tbody tr th:only-of-type {\n",
       "        vertical-align: middle;\n",
       "    }\n",
       "\n",
       "    .dataframe tbody tr th {\n",
       "        vertical-align: top;\n",
       "    }\n",
       "\n",
       "    .dataframe thead th {\n",
       "        text-align: right;\n",
       "    }\n",
       "</style>\n",
       "<table border=\"1\" class=\"dataframe\">\n",
       "  <thead>\n",
       "    <tr style=\"text-align: right;\">\n",
       "      <th></th>\n",
       "      <th>X</th>\n",
       "      <th>Y</th>\n",
       "    </tr>\n",
       "    <tr>\n",
       "      <th>npartitions=1</th>\n",
       "      <th></th>\n",
       "      <th></th>\n",
       "    </tr>\n",
       "  </thead>\n",
       "  <tbody>\n",
       "    <tr>\n",
       "      <th>0</th>\n",
       "      <td>float64</td>\n",
       "      <td>float64</td>\n",
       "    </tr>\n",
       "    <tr>\n",
       "      <th>99</th>\n",
       "      <td>...</td>\n",
       "      <td>...</td>\n",
       "    </tr>\n",
       "  </tbody>\n",
       "</table>\n",
       "</div>\n",
       "<div>Dask Name: from_pandas, 1 graph layer</div>"
      ],
      "text/plain": [
       "Dask DataFrame Structure:\n",
       "                     X        Y\n",
       "npartitions=1                  \n",
       "0              float64  float64\n",
       "99                 ...      ...\n",
       "Dask Name: from_pandas, 1 graph layer"
      ]
     },
     "execution_count": 14,
     "metadata": {},
     "output_type": "execute_result"
    }
   ],
   "source": [
    "df2_dask"
   ]
  },
  {
   "cell_type": "code",
   "execution_count": 15,
   "id": "cfda66d9-eada-4ab4-b7b0-8e871c472820",
   "metadata": {
    "execution": {
     "iopub.execute_input": "2024-09-11T13:10:15.745190Z",
     "iopub.status.busy": "2024-09-11T13:10:15.744191Z",
     "iopub.status.idle": "2024-09-11T13:10:16.244908Z",
     "shell.execute_reply": "2024-09-11T13:10:16.243892Z",
     "shell.execute_reply.started": "2024-09-11T13:10:15.745190Z"
    }
   },
   "outputs": [
    {
     "name": "stdout",
     "output_type": "stream",
     "text": [
      "[########################################] | 100% Completed | 106.03 ms\n"
     ]
    },
    {
     "data": {
      "image/png": "[encoded data removed]",
      "text/plain": [
       "<Figure size 640x480 with 1 Axes>"
      ]
     },
     "metadata": {},
     "output_type": "display_data"
    }
   ],
   "source": [
    "with ProgressBar():\n",
    "    sns.scatterplot(x=\"X\", y=\"Y\", data=df2_dask.compute())"
   ]
  },
  {
   "cell_type": "code",
   "execution_count": 16,
   "id": "0d504f2a-62b6-4388-a153-ede28c68c562",
   "metadata": {
    "execution": {
     "iopub.execute_input": "2024-09-11T13:10:16.249917Z",
     "iopub.status.busy": "2024-09-11T13:10:16.247910Z",
     "iopub.status.idle": "2024-09-11T13:10:16.640615Z",
     "shell.execute_reply": "2024-09-11T13:10:16.639589Z",
     "shell.execute_reply.started": "2024-09-11T13:10:16.249917Z"
    }
   },
   "outputs": [
    {
     "name": "stdout",
     "output_type": "stream",
     "text": [
      "[########################################] | 100% Completed | 107.22 ms\n"
     ]
    },
    {
     "data": {
      "image/png": "[encoded data removed]",
      "text/plain": [
       "<Figure size 640x480 with 1 Axes>"
      ]
     },
     "metadata": {},
     "output_type": "display_data"
    }
   ],
   "source": [
    "with ProgressBar():\n",
    "    sns.histplot(x=\"X\", y=\"Y\", data=df2_dask.compute(), bins=10)"
   ]
  },
  {
   "cell_type": "code",
   "execution_count": 17,
   "id": "0bc6b565-7771-45f3-a33a-d4a6a7f37b72",
   "metadata": {
    "execution": {
     "iopub.execute_input": "2024-09-11T13:10:16.644615Z",
     "iopub.status.busy": "2024-09-11T13:10:16.643617Z",
     "iopub.status.idle": "2024-09-11T13:10:16.697212Z",
     "shell.execute_reply": "2024-09-11T13:10:16.696194Z",
     "shell.execute_reply.started": "2024-09-11T13:10:16.644615Z"
    }
   },
   "outputs": [],
   "source": [
    "df2_dask_mean = df2_dask.mean().compute()"
   ]
  },
  {
   "cell_type": "code",
   "execution_count": 18,
   "id": "c14edf62-0648-4e0b-a7ae-84d942c9d612",
   "metadata": {
    "execution": {
     "iopub.execute_input": "2024-09-11T13:10:16.700236Z",
     "iopub.status.busy": "2024-09-11T13:10:16.700236Z",
     "iopub.status.idle": "2024-09-11T13:10:16.712968Z",
     "shell.execute_reply": "2024-09-11T13:10:16.711953Z",
     "shell.execute_reply.started": "2024-09-11T13:10:16.700236Z"
    }
   },
   "outputs": [
    {
     "data": {
      "text/plain": [
       "X    4.921127\n",
       "Y    6.991151\n",
       "dtype: float64"
      ]
     },
     "execution_count": 18,
     "metadata": {},
     "output_type": "execute_result"
    }
   ],
   "source": [
    "df2_dask_mean"
   ]
  },
  {
   "cell_type": "code",
   "execution_count": null,
   "id": "a0acacbf-0e3b-4fc3-9c9f-a890120cfbcc",
   "metadata": {},
   "outputs": [],
   "source": []
  },
  {
   "cell_type": "code",
   "execution_count": null,
   "id": "7684a7e8-ec45-41f1-b55b-7e72a7ec52bb",
   "metadata": {},
   "outputs": [],
   "source": []
  }
 ],
 "metadata": {
  "kernelspec": {
   "display_name": "Python 3 (ipykernel)",
   "language": "python",
   "name": "python3"
  },
  "language_info": {
   "codemirror_mode": {
    "name": "ipython",
    "version": 3
   },
   "file_extension": ".py",
   "mimetype": "text/x-python",
   "name": "python",
   "nbconvert_exporter": "python",
   "pygments_lexer": "ipython3",
   "version": "3.12.5"
  }
 },
 "nbformat": 4,
 "nbformat_minor": 5
}
