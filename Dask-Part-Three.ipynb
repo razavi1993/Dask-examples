{
 "cells": [
  {
   "cell_type": "code",
   "execution_count": 1,
   "id": "7118bdb1-f5a4-4956-96a4-19e69eba3b32",
   "metadata": {
    "execution": {
     "iopub.execute_input": "2024-09-11T13:51:26.275398Z",
     "iopub.status.busy": "2024-09-11T13:51:26.274373Z",
     "iopub.status.idle": "2024-09-11T13:51:26.743183Z",
     "shell.execute_reply": "2024-09-11T13:51:26.741169Z",
     "shell.execute_reply.started": "2024-09-11T13:51:26.275398Z"
    }
   },
   "outputs": [],
   "source": [
    "import dask.bag as db"
   ]
  },
  {
   "cell_type": "code",
   "execution_count": 2,
   "id": "35c7c722-1b2c-4bd9-a45f-6fef5090a15f",
   "metadata": {
    "execution": {
     "iopub.execute_input": "2024-09-11T13:51:26.746183Z",
     "iopub.status.busy": "2024-09-11T13:51:26.745184Z",
     "iopub.status.idle": "2024-09-11T13:51:26.755294Z",
     "shell.execute_reply": "2024-09-11T13:51:26.753273Z",
     "shell.execute_reply.started": "2024-09-11T13:51:26.746183Z"
    }
   },
   "outputs": [],
   "source": [
    "data = db.from_sequence([\"Apple\", \"Orange\", \"Pear\", \"Peach\", 'c', 15, 24.0], npartitions=2)"
   ]
  },
  {
   "cell_type": "code",
   "execution_count": 3,
   "id": "9da7364d-8c09-4449-b151-d2af3c57c029",
   "metadata": {
    "execution": {
     "iopub.execute_input": "2024-09-11T13:51:27.151925Z",
     "iopub.status.busy": "2024-09-11T13:51:27.150935Z",
     "iopub.status.idle": "2024-09-11T13:51:27.166252Z",
     "shell.execute_reply": "2024-09-11T13:51:27.165211Z",
     "shell.execute_reply.started": "2024-09-11T13:51:27.151925Z"
    }
   },
   "outputs": [],
   "source": [
    "from dask.diagnostics import ProgressBar"
   ]
  },
  {
   "cell_type": "code",
   "execution_count": 4,
   "id": "d4a31185-d8fc-4908-ae29-2425dab32587",
   "metadata": {
    "execution": {
     "iopub.execute_input": "2024-09-11T13:51:27.600941Z",
     "iopub.status.busy": "2024-09-11T13:51:27.599941Z",
     "iopub.status.idle": "2024-09-11T13:51:29.839751Z",
     "shell.execute_reply": "2024-09-11T13:51:29.838735Z",
     "shell.execute_reply.started": "2024-09-11T13:51:27.599941Z"
    }
   },
   "outputs": [
    {
     "name": "stdout",
     "output_type": "stream",
     "text": [
      "[########################################] | 100% Completed | 1.03 ss\n"
     ]
    },
    {
     "data": {
      "text/plain": [
       "7"
      ]
     },
     "execution_count": 4,
     "metadata": {},
     "output_type": "execute_result"
    }
   ],
   "source": [
    "with ProgressBar():\n",
    "    count = data.count().compute()\n",
    "count"
   ]
  },
  {
   "cell_type": "code",
   "execution_count": 5,
   "id": "f5eb2416-4099-47a3-88b9-65d9244a9dd3",
   "metadata": {
    "execution": {
     "iopub.execute_input": "2024-09-11T13:51:29.843751Z",
     "iopub.status.busy": "2024-09-11T13:51:29.842762Z",
     "iopub.status.idle": "2024-09-11T13:51:30.972365Z",
     "shell.execute_reply": "2024-09-11T13:51:30.971338Z",
     "shell.execute_reply.started": "2024-09-11T13:51:29.843751Z"
    }
   },
   "outputs": [
    {
     "name": "stdout",
     "output_type": "stream",
     "text": [
      "[########################################] | 100% Completed | 1.03 ss\n"
     ]
    },
    {
     "data": {
      "text/plain": [
       "[15, 24.0]"
      ]
     },
     "execution_count": 5,
     "metadata": {},
     "output_type": "execute_result"
    }
   ],
   "source": [
    "with ProgressBar():\n",
    "    filtered_data = data.filter(lambda x: type(x) in [float, int]).compute()\n",
    "filtered_data    "
   ]
  },
  {
   "cell_type": "code",
   "execution_count": 6,
   "id": "b8163207-296c-4f65-b72e-4c7c7425d65f",
   "metadata": {
    "execution": {
     "iopub.execute_input": "2024-09-11T13:51:30.974354Z",
     "iopub.status.busy": "2024-09-11T13:51:30.974354Z",
     "iopub.status.idle": "2024-09-11T13:51:32.117395Z",
     "shell.execute_reply": "2024-09-11T13:51:32.116378Z",
     "shell.execute_reply.started": "2024-09-11T13:51:30.974354Z"
    }
   },
   "outputs": [
    {
     "name": "stdout",
     "output_type": "stream",
     "text": [
      "[########################################] | 100% Completed | 1.03 ss\n"
     ]
    },
    {
     "data": {
      "text/plain": [
       "{'Apple': 5, 'Orange': 6, 'Pear': 4, 'Peach': 5}"
      ]
     },
     "execution_count": 6,
     "metadata": {},
     "output_type": "execute_result"
    }
   ],
   "source": [
    "with ProgressBar():\n",
    "    filtered_data = dict(data.filter(lambda s: type(s) == str and len(s) > 1).map(lambda s: (s, len(s))).compute())\n",
    "filtered_data"
   ]
  },
  {
   "cell_type": "code",
   "execution_count": 7,
   "id": "70ced943-671e-4e4e-a49d-348e338cecb6",
   "metadata": {
    "execution": {
     "iopub.execute_input": "2024-09-11T13:51:32.121393Z",
     "iopub.status.busy": "2024-09-11T13:51:32.120402Z",
     "iopub.status.idle": "2024-09-11T13:51:32.127981Z",
     "shell.execute_reply": "2024-09-11T13:51:32.126959Z",
     "shell.execute_reply.started": "2024-09-11T13:51:32.121393Z"
    }
   },
   "outputs": [],
   "source": [
    "class Fruit:\n",
    "    def __init__(self, name):\n",
    "        self.name = name"
   ]
  },
  {
   "cell_type": "code",
   "execution_count": 8,
   "id": "74290fe7-08fe-467c-88cd-3d0523d34934",
   "metadata": {
    "execution": {
     "iopub.execute_input": "2024-09-11T13:51:32.130982Z",
     "iopub.status.busy": "2024-09-11T13:51:32.129981Z",
     "iopub.status.idle": "2024-09-11T13:51:32.137291Z",
     "shell.execute_reply": "2024-09-11T13:51:32.136272Z",
     "shell.execute_reply.started": "2024-09-11T13:51:32.130982Z"
    }
   },
   "outputs": [],
   "source": [
    "apple = Fruit(\"apple\")\n",
    "orange = Fruit(\"orange\")"
   ]
  },
  {
   "cell_type": "code",
   "execution_count": 9,
   "id": "562b70e5-2b1e-4823-9c00-77d74187349d",
   "metadata": {
    "execution": {
     "iopub.execute_input": "2024-09-11T13:51:32.141293Z",
     "iopub.status.busy": "2024-09-11T13:51:32.139294Z",
     "iopub.status.idle": "2024-09-11T13:51:32.154616Z",
     "shell.execute_reply": "2024-09-11T13:51:32.152594Z",
     "shell.execute_reply.started": "2024-09-11T13:51:32.141293Z"
    }
   },
   "outputs": [],
   "source": [
    "data2 = db.from_sequence([orange, apple, \"fish\", \"chicken\", 24, 0.5], npartitions=3)"
   ]
  },
  {
   "cell_type": "code",
   "execution_count": 10,
   "id": "76550db9-e65a-4031-bf81-ab377e5fdb57",
   "metadata": {
    "execution": {
     "iopub.execute_input": "2024-09-11T13:51:32.158612Z",
     "iopub.status.busy": "2024-09-11T13:51:32.156611Z",
     "iopub.status.idle": "2024-09-11T13:51:33.297593Z",
     "shell.execute_reply": "2024-09-11T13:51:33.296578Z",
     "shell.execute_reply.started": "2024-09-11T13:51:32.157611Z"
    }
   },
   "outputs": [
    {
     "name": "stdout",
     "output_type": "stream",
     "text": [
      "[########################################] | 100% Completed | 1.03 ss\n"
     ]
    },
    {
     "data": {
      "text/plain": [
       "[True, True, False, False, False, False]"
      ]
     },
     "execution_count": 10,
     "metadata": {},
     "output_type": "execute_result"
    }
   ],
   "source": [
    "with ProgressBar():\n",
    "    is_fruit = list(data2.map(lambda x: isinstance(x, Fruit) == True))\n",
    "is_fruit"
   ]
  },
  {
   "cell_type": "code",
   "execution_count": null,
   "id": "99b7fc11-805f-4bfd-920b-0ed1b5aa6b86",
   "metadata": {},
   "outputs": [],
   "source": []
  }
 ],
 "metadata": {
  "kernelspec": {
   "display_name": "Python 3 (ipykernel)",
   "language": "python",
   "name": "python3"
  },
  "language_info": {
   "codemirror_mode": {
    "name": "ipython",
    "version": 3
   },
   "file_extension": ".py",
   "mimetype": "text/x-python",
   "name": "python",
   "nbconvert_exporter": "python",
   "pygments_lexer": "ipython3",
   "version": "3.12.5"
  }
 },
 "nbformat": 4,
 "nbformat_minor": 5
}
