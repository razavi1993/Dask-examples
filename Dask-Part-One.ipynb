{
 "cells": [
  {
   "cell_type": "code",
   "execution_count": 1,
   "id": "431d132f-6b8e-4ac6-899a-02bb4a00ea29",
   "metadata": {
    "execution": {
     "iopub.execute_input": "2024-09-11T11:07:28.002413Z",
     "iopub.status.busy": "2024-09-11T11:07:28.001412Z",
     "iopub.status.idle": "2024-09-11T11:07:28.324464Z",
     "shell.execute_reply": "2024-09-11T11:07:28.323422Z",
     "shell.execute_reply.started": "2024-09-11T11:07:28.002413Z"
    }
   },
   "outputs": [],
   "source": [
    "import dask"
   ]
  },
  {
   "cell_type": "code",
   "execution_count": 2,
   "id": "5d044abb-f52e-4e8a-9992-42e40ddeaf73",
   "metadata": {
    "execution": {
     "iopub.execute_input": "2024-09-11T11:07:28.326448Z",
     "iopub.status.busy": "2024-09-11T11:07:28.326448Z",
     "iopub.status.idle": "2024-09-11T11:07:29.326306Z",
     "shell.execute_reply": "2024-09-11T11:07:29.325294Z",
     "shell.execute_reply.started": "2024-09-11T11:07:28.326448Z"
    }
   },
   "outputs": [],
   "source": [
    "import dask.array as da"
   ]
  },
  {
   "cell_type": "code",
   "execution_count": 3,
   "id": "4c0a00e8-2cbf-475c-9106-604223c8eab2",
   "metadata": {
    "execution": {
     "iopub.execute_input": "2024-09-11T11:07:29.328316Z",
     "iopub.status.busy": "2024-09-11T11:07:29.328316Z",
     "iopub.status.idle": "2024-09-11T11:07:29.337574Z",
     "shell.execute_reply": "2024-09-11T11:07:29.335546Z",
     "shell.execute_reply.started": "2024-09-11T11:07:29.328316Z"
    }
   },
   "outputs": [],
   "source": [
    "distributed_array = da.from_array(list(range(0,1000)))"
   ]
  },
  {
   "cell_type": "code",
   "execution_count": 4,
   "id": "c7cfff07-8ce0-4918-9bc7-0181d891beb7",
   "metadata": {
    "execution": {
     "iopub.execute_input": "2024-09-11T11:07:29.342567Z",
     "iopub.status.busy": "2024-09-11T11:07:29.340570Z",
     "iopub.status.idle": "2024-09-11T11:07:29.370786Z",
     "shell.execute_reply": "2024-09-11T11:07:29.369770Z",
     "shell.execute_reply.started": "2024-09-11T11:07:29.342567Z"
    }
   },
   "outputs": [
    {
     "data": {
      "text/html": [
       "<table>\n",
       "    <tr>\n",
       "        <td>\n",
       "            <table style=\"border-collapse: collapse;\">\n",
       "                <thead>\n",
       "                    <tr>\n",
       "                        <td> </td>\n",
       "                        <th> Array </th>\n",
       "                        <th> Chunk </th>\n",
       "                    </tr>\n",
       "                </thead>\n",
       "                <tbody>\n",
       "                    \n",
       "                    <tr>\n",
       "                        <th> Bytes </th>\n",
       "                        <td> 3.91 kiB </td>\n",
       "                        <td> 3.91 kiB </td>\n",
       "                    </tr>\n",
       "                    \n",
       "                    <tr>\n",
       "                        <th> Shape </th>\n",
       "                        <td> (1000,) </td>\n",
       "                        <td> (1000,) </td>\n",
       "                    </tr>\n",
       "                    <tr>\n",
       "                        <th> Dask graph </th>\n",
       "                        <td colspan=\"2\"> 1 chunks in 1 graph layer </td>\n",
       "                    </tr>\n",
       "                    <tr>\n",
       "                        <th> Data type </th>\n",
       "                        <td colspan=\"2\"> int32 numpy.ndarray </td>\n",
       "                    </tr>\n",
       "                </tbody>\n",
       "            </table>\n",
       "        </td>\n",
       "        <td>\n",
       "        <svg width=\"170\" height=\"75\" style=\"stroke:rgb(0,0,0);stroke-width:1\" >\n",
       "\n",
       "  <!-- Horizontal lines -->\n",
       "  <line x1=\"0\" y1=\"0\" x2=\"120\" y2=\"0\" style=\"stroke-width:2\" />\n",
       "  <line x1=\"0\" y1=\"25\" x2=\"120\" y2=\"25\" style=\"stroke-width:2\" />\n",
       "\n",
       "  <!-- Vertical lines -->\n",
       "  <line x1=\"0\" y1=\"0\" x2=\"0\" y2=\"25\" style=\"stroke-width:2\" />\n",
       "  <line x1=\"120\" y1=\"0\" x2=\"120\" y2=\"25\" style=\"stroke-width:2\" />\n",
       "\n",
       "  <!-- Colored Rectangle -->\n",
       "  <polygon points=\"0.0,0.0 120.0,0.0 120.0,25.412616514582485 0.0,25.412616514582485\" style=\"fill:#ECB172A0;stroke-width:0\"/>\n",
       "\n",
       "  <!-- Text -->\n",
       "  <text x=\"60.000000\" y=\"45.412617\" font-size=\"1.0rem\" font-weight=\"100\" text-anchor=\"middle\" >1000</text>\n",
       "  <text x=\"140.000000\" y=\"12.706308\" font-size=\"1.0rem\" font-weight=\"100\" text-anchor=\"middle\" transform=\"rotate(0,140.000000,12.706308)\">1</text>\n",
       "</svg>\n",
       "        </td>\n",
       "    </tr>\n",
       "</table>"
      ],
      "text/plain": [
       "dask.array<array, shape=(1000,), dtype=int32, chunksize=(1000,), chunktype=numpy.ndarray>"
      ]
     },
     "execution_count": 4,
     "metadata": {},
     "output_type": "execute_result"
    }
   ],
   "source": [
    "distributed_array"
   ]
  },
  {
   "cell_type": "code",
   "execution_count": 5,
   "id": "2a0f4932-d10f-4506-8753-3abc37c5a359",
   "metadata": {
    "execution": {
     "iopub.execute_input": "2024-09-11T11:07:29.374787Z",
     "iopub.status.busy": "2024-09-11T11:07:29.372787Z",
     "iopub.status.idle": "2024-09-11T11:07:30.163831Z",
     "shell.execute_reply": "2024-09-11T11:07:30.162814Z",
     "shell.execute_reply.started": "2024-09-11T11:07:29.374787Z"
    }
   },
   "outputs": [],
   "source": [
    "avg = dask.compute(da.average(distributed_array))"
   ]
  },
  {
   "cell_type": "code",
   "execution_count": 6,
   "id": "3ad1d819-e4e9-4c49-a04a-7a63ef996e9e",
   "metadata": {
    "execution": {
     "iopub.execute_input": "2024-09-11T11:07:30.167860Z",
     "iopub.status.busy": "2024-09-11T11:07:30.167860Z",
     "iopub.status.idle": "2024-09-11T11:07:30.177762Z",
     "shell.execute_reply": "2024-09-11T11:07:30.175739Z",
     "shell.execute_reply.started": "2024-09-11T11:07:30.167860Z"
    }
   },
   "outputs": [
    {
     "data": {
      "text/plain": [
       "(499.5,)"
      ]
     },
     "execution_count": 6,
     "metadata": {},
     "output_type": "execute_result"
    }
   ],
   "source": [
    "avg"
   ]
  },
  {
   "cell_type": "code",
   "execution_count": 7,
   "id": "2cbe319a-c8cb-4595-96a9-9b206cfc82bb",
   "metadata": {
    "execution": {
     "iopub.execute_input": "2024-09-11T11:07:30.184786Z",
     "iopub.status.busy": "2024-09-11T11:07:30.183758Z",
     "iopub.status.idle": "2024-09-11T11:07:30.194062Z",
     "shell.execute_reply": "2024-09-11T11:07:30.193045Z",
     "shell.execute_reply.started": "2024-09-11T11:07:30.184786Z"
    }
   },
   "outputs": [],
   "source": [
    "distributed_array_second = da.random.random(1000)"
   ]
  },
  {
   "cell_type": "code",
   "execution_count": 8,
   "id": "fad51ac6-0b52-4116-a05b-d8a967e2f3ee",
   "metadata": {
    "execution": {
     "iopub.execute_input": "2024-09-11T11:07:30.197070Z",
     "iopub.status.busy": "2024-09-11T11:07:30.196061Z",
     "iopub.status.idle": "2024-09-11T11:07:30.218289Z",
     "shell.execute_reply": "2024-09-11T11:07:30.216267Z",
     "shell.execute_reply.started": "2024-09-11T11:07:30.197070Z"
    }
   },
   "outputs": [
    {
     "data": {
      "text/html": [
       "<table>\n",
       "    <tr>\n",
       "        <td>\n",
       "            <table style=\"border-collapse: collapse;\">\n",
       "                <thead>\n",
       "                    <tr>\n",
       "                        <td> </td>\n",
       "                        <th> Array </th>\n",
       "                        <th> Chunk </th>\n",
       "                    </tr>\n",
       "                </thead>\n",
       "                <tbody>\n",
       "                    \n",
       "                    <tr>\n",
       "                        <th> Bytes </th>\n",
       "                        <td> 7.81 kiB </td>\n",
       "                        <td> 7.81 kiB </td>\n",
       "                    </tr>\n",
       "                    \n",
       "                    <tr>\n",
       "                        <th> Shape </th>\n",
       "                        <td> (1000,) </td>\n",
       "                        <td> (1000,) </td>\n",
       "                    </tr>\n",
       "                    <tr>\n",
       "                        <th> Dask graph </th>\n",
       "                        <td colspan=\"2\"> 1 chunks in 1 graph layer </td>\n",
       "                    </tr>\n",
       "                    <tr>\n",
       "                        <th> Data type </th>\n",
       "                        <td colspan=\"2\"> float64 numpy.ndarray </td>\n",
       "                    </tr>\n",
       "                </tbody>\n",
       "            </table>\n",
       "        </td>\n",
       "        <td>\n",
       "        <svg width=\"170\" height=\"75\" style=\"stroke:rgb(0,0,0);stroke-width:1\" >\n",
       "\n",
       "  <!-- Horizontal lines -->\n",
       "  <line x1=\"0\" y1=\"0\" x2=\"120\" y2=\"0\" style=\"stroke-width:2\" />\n",
       "  <line x1=\"0\" y1=\"25\" x2=\"120\" y2=\"25\" style=\"stroke-width:2\" />\n",
       "\n",
       "  <!-- Vertical lines -->\n",
       "  <line x1=\"0\" y1=\"0\" x2=\"0\" y2=\"25\" style=\"stroke-width:2\" />\n",
       "  <line x1=\"120\" y1=\"0\" x2=\"120\" y2=\"25\" style=\"stroke-width:2\" />\n",
       "\n",
       "  <!-- Colored Rectangle -->\n",
       "  <polygon points=\"0.0,0.0 120.0,0.0 120.0,25.412616514582485 0.0,25.412616514582485\" style=\"fill:#ECB172A0;stroke-width:0\"/>\n",
       "\n",
       "  <!-- Text -->\n",
       "  <text x=\"60.000000\" y=\"45.412617\" font-size=\"1.0rem\" font-weight=\"100\" text-anchor=\"middle\" >1000</text>\n",
       "  <text x=\"140.000000\" y=\"12.706308\" font-size=\"1.0rem\" font-weight=\"100\" text-anchor=\"middle\" transform=\"rotate(0,140.000000,12.706308)\">1</text>\n",
       "</svg>\n",
       "        </td>\n",
       "    </tr>\n",
       "</table>"
      ],
      "text/plain": [
       "dask.array<random_sample, shape=(1000,), dtype=float64, chunksize=(1000,), chunktype=numpy.ndarray>"
      ]
     },
     "execution_count": 8,
     "metadata": {},
     "output_type": "execute_result"
    }
   ],
   "source": [
    "distributed_array_second"
   ]
  },
  {
   "cell_type": "code",
   "execution_count": 9,
   "id": "f8922f4d-4c7a-406d-9289-af6daf13a3b2",
   "metadata": {
    "execution": {
     "iopub.execute_input": "2024-09-11T11:07:30.222287Z",
     "iopub.status.busy": "2024-09-11T11:07:30.221288Z",
     "iopub.status.idle": "2024-09-11T11:07:30.243615Z",
     "shell.execute_reply": "2024-09-11T11:07:30.242585Z",
     "shell.execute_reply.started": "2024-09-11T11:07:30.222287Z"
    }
   },
   "outputs": [],
   "source": [
    "std = dask.compute(da.std(distributed_array_second))"
   ]
  },
  {
   "cell_type": "code",
   "execution_count": 10,
   "id": "89544c32-0b68-45a7-82e8-1e5aba97c5af",
   "metadata": {
    "execution": {
     "iopub.execute_input": "2024-09-11T11:07:30.247612Z",
     "iopub.status.busy": "2024-09-11T11:07:30.246616Z",
     "iopub.status.idle": "2024-09-11T11:07:30.258828Z",
     "shell.execute_reply": "2024-09-11T11:07:30.257799Z",
     "shell.execute_reply.started": "2024-09-11T11:07:30.247612Z"
    }
   },
   "outputs": [
    {
     "data": {
      "text/plain": [
       "(0.28555913540079425,)"
      ]
     },
     "execution_count": 10,
     "metadata": {},
     "output_type": "execute_result"
    }
   ],
   "source": [
    "std"
   ]
  },
  {
   "cell_type": "code",
   "execution_count": 11,
   "id": "63e3af7a-d7a1-421c-88f7-ad703aedc693",
   "metadata": {
    "execution": {
     "iopub.execute_input": "2024-09-11T11:07:30.263828Z",
     "iopub.status.busy": "2024-09-11T11:07:30.261825Z",
     "iopub.status.idle": "2024-09-11T11:07:30.300872Z",
     "shell.execute_reply": "2024-09-11T11:07:30.298852Z",
     "shell.execute_reply.started": "2024-09-11T11:07:30.263828Z"
    }
   },
   "outputs": [],
   "source": [
    "distributed_array_with_chunks = da.random.standard_normal(10000, chunks=20)"
   ]
  },
  {
   "cell_type": "code",
   "execution_count": 12,
   "id": "bd617ad1-c316-4df9-9b72-e841c605c1dd",
   "metadata": {
    "execution": {
     "iopub.execute_input": "2024-09-11T11:07:30.304878Z",
     "iopub.status.busy": "2024-09-11T11:07:30.303876Z",
     "iopub.status.idle": "2024-09-11T11:07:30.322334Z",
     "shell.execute_reply": "2024-09-11T11:07:30.320307Z",
     "shell.execute_reply.started": "2024-09-11T11:07:30.304878Z"
    }
   },
   "outputs": [
    {
     "data": {
      "text/html": [
       "<table>\n",
       "    <tr>\n",
       "        <td>\n",
       "            <table style=\"border-collapse: collapse;\">\n",
       "                <thead>\n",
       "                    <tr>\n",
       "                        <td> </td>\n",
       "                        <th> Array </th>\n",
       "                        <th> Chunk </th>\n",
       "                    </tr>\n",
       "                </thead>\n",
       "                <tbody>\n",
       "                    \n",
       "                    <tr>\n",
       "                        <th> Bytes </th>\n",
       "                        <td> 78.12 kiB </td>\n",
       "                        <td> 160 B </td>\n",
       "                    </tr>\n",
       "                    \n",
       "                    <tr>\n",
       "                        <th> Shape </th>\n",
       "                        <td> (10000,) </td>\n",
       "                        <td> (20,) </td>\n",
       "                    </tr>\n",
       "                    <tr>\n",
       "                        <th> Dask graph </th>\n",
       "                        <td colspan=\"2\"> 500 chunks in 1 graph layer </td>\n",
       "                    </tr>\n",
       "                    <tr>\n",
       "                        <th> Data type </th>\n",
       "                        <td colspan=\"2\"> float64 numpy.ndarray </td>\n",
       "                    </tr>\n",
       "                </tbody>\n",
       "            </table>\n",
       "        </td>\n",
       "        <td>\n",
       "        <svg width=\"170\" height=\"75\" style=\"stroke:rgb(0,0,0);stroke-width:1\" >\n",
       "\n",
       "  <!-- Horizontal lines -->\n",
       "  <line x1=\"0\" y1=\"0\" x2=\"120\" y2=\"0\" style=\"stroke-width:2\" />\n",
       "  <line x1=\"0\" y1=\"25\" x2=\"120\" y2=\"25\" style=\"stroke-width:2\" />\n",
       "\n",
       "  <!-- Vertical lines -->\n",
       "  <line x1=\"0\" y1=\"0\" x2=\"0\" y2=\"25\" style=\"stroke-width:2\" />\n",
       "  <line x1=\"6\" y1=\"0\" x2=\"6\" y2=\"25\" />\n",
       "  <line x1=\"12\" y1=\"0\" x2=\"12\" y2=\"25\" />\n",
       "  <line x1=\"18\" y1=\"0\" x2=\"18\" y2=\"25\" />\n",
       "  <line x1=\"25\" y1=\"0\" x2=\"25\" y2=\"25\" />\n",
       "  <line x1=\"31\" y1=\"0\" x2=\"31\" y2=\"25\" />\n",
       "  <line x1=\"37\" y1=\"0\" x2=\"37\" y2=\"25\" />\n",
       "  <line x1=\"44\" y1=\"0\" x2=\"44\" y2=\"25\" />\n",
       "  <line x1=\"50\" y1=\"0\" x2=\"50\" y2=\"25\" />\n",
       "  <line x1=\"56\" y1=\"0\" x2=\"56\" y2=\"25\" />\n",
       "  <line x1=\"63\" y1=\"0\" x2=\"63\" y2=\"25\" />\n",
       "  <line x1=\"69\" y1=\"0\" x2=\"69\" y2=\"25\" />\n",
       "  <line x1=\"75\" y1=\"0\" x2=\"75\" y2=\"25\" />\n",
       "  <line x1=\"82\" y1=\"0\" x2=\"82\" y2=\"25\" />\n",
       "  <line x1=\"88\" y1=\"0\" x2=\"88\" y2=\"25\" />\n",
       "  <line x1=\"94\" y1=\"0\" x2=\"94\" y2=\"25\" />\n",
       "  <line x1=\"101\" y1=\"0\" x2=\"101\" y2=\"25\" />\n",
       "  <line x1=\"107\" y1=\"0\" x2=\"107\" y2=\"25\" />\n",
       "  <line x1=\"113\" y1=\"0\" x2=\"113\" y2=\"25\" />\n",
       "  <line x1=\"120\" y1=\"0\" x2=\"120\" y2=\"25\" style=\"stroke-width:2\" />\n",
       "\n",
       "  <!-- Colored Rectangle -->\n",
       "  <polygon points=\"0.0,0.0 120.0,0.0 120.0,25.412616514582485 0.0,25.412616514582485\" style=\"fill:#8B4903A0;stroke-width:0\"/>\n",
       "\n",
       "  <!-- Text -->\n",
       "  <text x=\"60.000000\" y=\"45.412617\" font-size=\"1.0rem\" font-weight=\"100\" text-anchor=\"middle\" >10000</text>\n",
       "  <text x=\"140.000000\" y=\"12.706308\" font-size=\"1.0rem\" font-weight=\"100\" text-anchor=\"middle\" transform=\"rotate(0,140.000000,12.706308)\">1</text>\n",
       "</svg>\n",
       "        </td>\n",
       "    </tr>\n",
       "</table>"
      ],
      "text/plain": [
       "dask.array<standard_normal, shape=(10000,), dtype=float64, chunksize=(20,), chunktype=numpy.ndarray>"
      ]
     },
     "execution_count": 12,
     "metadata": {},
     "output_type": "execute_result"
    }
   ],
   "source": [
    "distributed_array_with_chunks"
   ]
  },
  {
   "cell_type": "code",
   "execution_count": 13,
   "id": "681180b4-12d2-4955-b9b8-4fcae381445d",
   "metadata": {
    "execution": {
     "iopub.execute_input": "2024-09-11T11:07:30.447298Z",
     "iopub.status.busy": "2024-09-11T11:07:30.446306Z",
     "iopub.status.idle": "2024-09-11T11:07:30.460742Z",
     "shell.execute_reply": "2024-09-11T11:07:30.459715Z",
     "shell.execute_reply.started": "2024-09-11T11:07:30.447298Z"
    }
   },
   "outputs": [],
   "source": [
    "distributed_array_with_chunks = distributed_array_with_chunks.rechunk(chunks=100)"
   ]
  },
  {
   "cell_type": "code",
   "execution_count": 14,
   "id": "14c8c3b1-e726-464a-9c68-0f4580934f7c",
   "metadata": {
    "execution": {
     "iopub.execute_input": "2024-09-11T11:07:30.727296Z",
     "iopub.status.busy": "2024-09-11T11:07:30.726317Z",
     "iopub.status.idle": "2024-09-11T11:07:30.743249Z",
     "shell.execute_reply": "2024-09-11T11:07:30.742208Z",
     "shell.execute_reply.started": "2024-09-11T11:07:30.727296Z"
    }
   },
   "outputs": [
    {
     "data": {
      "text/html": [
       "<table>\n",
       "    <tr>\n",
       "        <td>\n",
       "            <table style=\"border-collapse: collapse;\">\n",
       "                <thead>\n",
       "                    <tr>\n",
       "                        <td> </td>\n",
       "                        <th> Array </th>\n",
       "                        <th> Chunk </th>\n",
       "                    </tr>\n",
       "                </thead>\n",
       "                <tbody>\n",
       "                    \n",
       "                    <tr>\n",
       "                        <th> Bytes </th>\n",
       "                        <td> 78.12 kiB </td>\n",
       "                        <td> 800 B </td>\n",
       "                    </tr>\n",
       "                    \n",
       "                    <tr>\n",
       "                        <th> Shape </th>\n",
       "                        <td> (10000,) </td>\n",
       "                        <td> (100,) </td>\n",
       "                    </tr>\n",
       "                    <tr>\n",
       "                        <th> Dask graph </th>\n",
       "                        <td colspan=\"2\"> 100 chunks in 2 graph layers </td>\n",
       "                    </tr>\n",
       "                    <tr>\n",
       "                        <th> Data type </th>\n",
       "                        <td colspan=\"2\"> float64 numpy.ndarray </td>\n",
       "                    </tr>\n",
       "                </tbody>\n",
       "            </table>\n",
       "        </td>\n",
       "        <td>\n",
       "        <svg width=\"170\" height=\"75\" style=\"stroke:rgb(0,0,0);stroke-width:1\" >\n",
       "\n",
       "  <!-- Horizontal lines -->\n",
       "  <line x1=\"0\" y1=\"0\" x2=\"120\" y2=\"0\" style=\"stroke-width:2\" />\n",
       "  <line x1=\"0\" y1=\"25\" x2=\"120\" y2=\"25\" style=\"stroke-width:2\" />\n",
       "\n",
       "  <!-- Vertical lines -->\n",
       "  <line x1=\"0\" y1=\"0\" x2=\"0\" y2=\"25\" style=\"stroke-width:2\" />\n",
       "  <line x1=\"6\" y1=\"0\" x2=\"6\" y2=\"25\" />\n",
       "  <line x1=\"12\" y1=\"0\" x2=\"12\" y2=\"25\" />\n",
       "  <line x1=\"18\" y1=\"0\" x2=\"18\" y2=\"25\" />\n",
       "  <line x1=\"25\" y1=\"0\" x2=\"25\" y2=\"25\" />\n",
       "  <line x1=\"31\" y1=\"0\" x2=\"31\" y2=\"25\" />\n",
       "  <line x1=\"37\" y1=\"0\" x2=\"37\" y2=\"25\" />\n",
       "  <line x1=\"43\" y1=\"0\" x2=\"43\" y2=\"25\" />\n",
       "  <line x1=\"50\" y1=\"0\" x2=\"50\" y2=\"25\" />\n",
       "  <line x1=\"56\" y1=\"0\" x2=\"56\" y2=\"25\" />\n",
       "  <line x1=\"62\" y1=\"0\" x2=\"62\" y2=\"25\" />\n",
       "  <line x1=\"68\" y1=\"0\" x2=\"68\" y2=\"25\" />\n",
       "  <line x1=\"75\" y1=\"0\" x2=\"75\" y2=\"25\" />\n",
       "  <line x1=\"81\" y1=\"0\" x2=\"81\" y2=\"25\" />\n",
       "  <line x1=\"87\" y1=\"0\" x2=\"87\" y2=\"25\" />\n",
       "  <line x1=\"93\" y1=\"0\" x2=\"93\" y2=\"25\" />\n",
       "  <line x1=\"100\" y1=\"0\" x2=\"100\" y2=\"25\" />\n",
       "  <line x1=\"106\" y1=\"0\" x2=\"106\" y2=\"25\" />\n",
       "  <line x1=\"112\" y1=\"0\" x2=\"112\" y2=\"25\" />\n",
       "  <line x1=\"120\" y1=\"0\" x2=\"120\" y2=\"25\" style=\"stroke-width:2\" />\n",
       "\n",
       "  <!-- Colored Rectangle -->\n",
       "  <polygon points=\"0.0,0.0 120.0,0.0 120.0,25.412616514582485 0.0,25.412616514582485\" style=\"fill:#8B4903A0;stroke-width:0\"/>\n",
       "\n",
       "  <!-- Text -->\n",
       "  <text x=\"60.000000\" y=\"45.412617\" font-size=\"1.0rem\" font-weight=\"100\" text-anchor=\"middle\" >10000</text>\n",
       "  <text x=\"140.000000\" y=\"12.706308\" font-size=\"1.0rem\" font-weight=\"100\" text-anchor=\"middle\" transform=\"rotate(0,140.000000,12.706308)\">1</text>\n",
       "</svg>\n",
       "        </td>\n",
       "    </tr>\n",
       "</table>"
      ],
      "text/plain": [
       "dask.array<rechunk-merge, shape=(10000,), dtype=float64, chunksize=(100,), chunktype=numpy.ndarray>"
      ]
     },
     "execution_count": 14,
     "metadata": {},
     "output_type": "execute_result"
    }
   ],
   "source": [
    "distributed_array_with_chunks"
   ]
  },
  {
   "cell_type": "code",
   "execution_count": 21,
   "id": "70fe3b9d-3ebb-4766-a71f-8a6e7de31d12",
   "metadata": {
    "execution": {
     "iopub.execute_input": "2024-09-11T11:07:37.808262Z",
     "iopub.status.busy": "2024-09-11T11:07:37.807288Z",
     "iopub.status.idle": "2024-09-11T11:07:37.815689Z",
     "shell.execute_reply": "2024-09-11T11:07:37.813665Z",
     "shell.execute_reply.started": "2024-09-11T11:07:37.808262Z"
    }
   },
   "outputs": [],
   "source": [
    "import dask.dataframe as dd"
   ]
  },
  {
   "cell_type": "code",
   "execution_count": 16,
   "id": "95cd1460-6b6f-40a2-9ecc-8bd8ebd440a3",
   "metadata": {
    "execution": {
     "iopub.execute_input": "2024-09-11T11:07:32.279631Z",
     "iopub.status.busy": "2024-09-11T11:07:32.278647Z",
     "iopub.status.idle": "2024-09-11T11:07:32.325996Z",
     "shell.execute_reply": "2024-09-11T11:07:32.324974Z",
     "shell.execute_reply.started": "2024-09-11T11:07:32.279631Z"
    }
   },
   "outputs": [],
   "source": [
    "df = dd.read_csv(\"penguins.csv\", blocksize=\"1kb\")"
   ]
  },
  {
   "cell_type": "code",
   "execution_count": 17,
   "id": "d7590703-6055-4742-8754-ac1b68c74423",
   "metadata": {
    "execution": {
     "iopub.execute_input": "2024-09-11T11:07:32.328001Z",
     "iopub.status.busy": "2024-09-11T11:07:32.328001Z",
     "iopub.status.idle": "2024-09-11T11:07:32.363620Z",
     "shell.execute_reply": "2024-09-11T11:07:32.362606Z",
     "shell.execute_reply.started": "2024-09-11T11:07:32.328001Z"
    }
   },
   "outputs": [
    {
     "data": {
      "text/html": [
       "<div><strong>Dask DataFrame Structure:</strong></div>\n",
       "<div>\n",
       "<style scoped>\n",
       "    .dataframe tbody tr th:only-of-type {\n",
       "        vertical-align: middle;\n",
       "    }\n",
       "\n",
       "    .dataframe tbody tr th {\n",
       "        vertical-align: top;\n",
       "    }\n",
       "\n",
       "    .dataframe thead th {\n",
       "        text-align: right;\n",
       "    }\n",
       "</style>\n",
       "<table border=\"1\" class=\"dataframe\">\n",
       "  <thead>\n",
       "    <tr style=\"text-align: right;\">\n",
       "      <th></th>\n",
       "      <th>species</th>\n",
       "      <th>island</th>\n",
       "      <th>bill_length_mm</th>\n",
       "      <th>bill_depth_mm</th>\n",
       "      <th>flipper_length_mm</th>\n",
       "      <th>body_mass_g</th>\n",
       "      <th>sex</th>\n",
       "    </tr>\n",
       "    <tr>\n",
       "      <th>npartitions=13</th>\n",
       "      <th></th>\n",
       "      <th></th>\n",
       "      <th></th>\n",
       "      <th></th>\n",
       "      <th></th>\n",
       "      <th></th>\n",
       "      <th></th>\n",
       "    </tr>\n",
       "  </thead>\n",
       "  <tbody>\n",
       "    <tr>\n",
       "      <th></th>\n",
       "      <td>string</td>\n",
       "      <td>string</td>\n",
       "      <td>float64</td>\n",
       "      <td>float64</td>\n",
       "      <td>float64</td>\n",
       "      <td>float64</td>\n",
       "      <td>string</td>\n",
       "    </tr>\n",
       "    <tr>\n",
       "      <th></th>\n",
       "      <td>...</td>\n",
       "      <td>...</td>\n",
       "      <td>...</td>\n",
       "      <td>...</td>\n",
       "      <td>...</td>\n",
       "      <td>...</td>\n",
       "      <td>...</td>\n",
       "    </tr>\n",
       "    <tr>\n",
       "      <th>...</th>\n",
       "      <td>...</td>\n",
       "      <td>...</td>\n",
       "      <td>...</td>\n",
       "      <td>...</td>\n",
       "      <td>...</td>\n",
       "      <td>...</td>\n",
       "      <td>...</td>\n",
       "    </tr>\n",
       "    <tr>\n",
       "      <th></th>\n",
       "      <td>...</td>\n",
       "      <td>...</td>\n",
       "      <td>...</td>\n",
       "      <td>...</td>\n",
       "      <td>...</td>\n",
       "      <td>...</td>\n",
       "      <td>...</td>\n",
       "    </tr>\n",
       "    <tr>\n",
       "      <th></th>\n",
       "      <td>...</td>\n",
       "      <td>...</td>\n",
       "      <td>...</td>\n",
       "      <td>...</td>\n",
       "      <td>...</td>\n",
       "      <td>...</td>\n",
       "      <td>...</td>\n",
       "    </tr>\n",
       "  </tbody>\n",
       "</table>\n",
       "</div>\n",
       "<div>Dask Name: to_pyarrow_string, 2 graph layers</div>"
      ],
      "text/plain": [
       "Dask DataFrame Structure:\n",
       "               species  island bill_length_mm bill_depth_mm flipper_length_mm body_mass_g     sex\n",
       "npartitions=13                                                                                   \n",
       "                string  string        float64       float64           float64     float64  string\n",
       "                   ...     ...            ...           ...               ...         ...     ...\n",
       "...                ...     ...            ...           ...               ...         ...     ...\n",
       "                   ...     ...            ...           ...               ...         ...     ...\n",
       "                   ...     ...            ...           ...               ...         ...     ...\n",
       "Dask Name: to_pyarrow_string, 2 graph layers"
      ]
     },
     "execution_count": 17,
     "metadata": {},
     "output_type": "execute_result"
    }
   ],
   "source": [
    "df"
   ]
  },
  {
   "cell_type": "code",
   "execution_count": 18,
   "id": "f69e8fb9-27ea-4eb6-a4e1-7131b141258a",
   "metadata": {
    "execution": {
     "iopub.execute_input": "2024-09-11T11:07:32.366648Z",
     "iopub.status.busy": "2024-09-11T11:07:32.366648Z",
     "iopub.status.idle": "2024-09-11T11:07:32.615993Z",
     "shell.execute_reply": "2024-09-11T11:07:32.614952Z",
     "shell.execute_reply.started": "2024-09-11T11:07:32.366648Z"
    }
   },
   "outputs": [
    {
     "data": {
      "text/plain": [
       "(body_mass_g    4201.754386\n",
       " dtype: float64,)"
      ]
     },
     "execution_count": 18,
     "metadata": {},
     "output_type": "execute_result"
    }
   ],
   "source": [
    "dask.compute(df[[\"body_mass_g\"]].mean())"
   ]
  },
  {
   "cell_type": "code",
   "execution_count": 19,
   "id": "eed849e7-c385-443b-a2f8-6ea12f8126ae",
   "metadata": {
    "execution": {
     "iopub.execute_input": "2024-09-11T11:07:32.617992Z",
     "iopub.status.busy": "2024-09-11T11:07:32.617992Z",
     "iopub.status.idle": "2024-09-11T11:07:32.845051Z",
     "shell.execute_reply": "2024-09-11T11:07:32.844034Z",
     "shell.execute_reply.started": "2024-09-11T11:07:32.617992Z"
    }
   },
   "outputs": [
    {
     "data": {
      "text/plain": [
       "(bill_depth_mm         21.5\n",
       " flipper_length_mm    231.0\n",
       " dtype: float64,)"
      ]
     },
     "execution_count": 19,
     "metadata": {},
     "output_type": "execute_result"
    }
   ],
   "source": [
    "dask.compute(df[[\"bill_depth_mm\", \"flipper_length_mm\"]].max())"
   ]
  },
  {
   "cell_type": "code",
   "execution_count": 20,
   "id": "37653c2c-8a32-4623-a29d-bed45c19d80d",
   "metadata": {
    "execution": {
     "iopub.execute_input": "2024-09-11T11:07:32.848052Z",
     "iopub.status.busy": "2024-09-11T11:07:32.848052Z",
     "iopub.status.idle": "2024-09-11T11:07:33.020352Z",
     "shell.execute_reply": "2024-09-11T11:07:33.018336Z",
     "shell.execute_reply.started": "2024-09-11T11:07:32.848052Z"
    }
   },
   "outputs": [
    {
     "data": {
      "text/plain": [
       "(74578.69999999998,)"
      ]
     },
     "execution_count": 20,
     "metadata": {},
     "output_type": "execute_result"
    }
   ],
   "source": [
    "dask.compute((df[\"bill_depth_mm\"] + df[\"flipper_length_mm\"]).sum())"
   ]
  },
  {
   "cell_type": "code",
   "execution_count": null,
   "id": "f5eb59e0-2690-4ffb-baab-7cdb5f234db0",
   "metadata": {},
   "outputs": [],
   "source": []
  }
 ],
 "metadata": {
  "kernelspec": {
   "display_name": "Python 3 (ipykernel)",
   "language": "python",
   "name": "python3"
  },
  "language_info": {
   "codemirror_mode": {
    "name": "ipython",
    "version": 3
   },
   "file_extension": ".py",
   "mimetype": "text/x-python",
   "name": "python",
   "nbconvert_exporter": "python",
   "pygments_lexer": "ipython3",
   "version": "3.12.5"
  }
 },
 "nbformat": 4,
 "nbformat_minor": 5
}
